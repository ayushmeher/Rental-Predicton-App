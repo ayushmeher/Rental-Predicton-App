{
 "cells": [
  {
   "cell_type": "code",
   "execution_count": 1,
   "id": "b7e3676f-c080-4419-8bf2-3d0343116249",
   "metadata": {},
   "outputs": [],
   "source": [
    "# Install Sckit-learn\n",
    "#!pip install -U scikit-learn\n",
    "#!pip install pandas\n",
    "#!pip install joblib"
   ]
  },
  {
   "cell_type": "code",
   "execution_count": 10,
   "id": "5bdd3e31-5cf6-4b11-bf37-ac55a8c500c3",
   "metadata": {},
   "outputs": [],
   "source": [
    "# Import essential Libraries\n",
    "import numpy as np\n",
    "import pandas as pd\n",
    "import joblib\n",
    "from joblib import dump, load\n",
    "\n",
    "from sklearn.linear_model import LinearRegression\n",
    "from sklearn.model_selection import train_test_split"
   ]
  },
  {
   "cell_type": "code",
   "execution_count": 11,
   "id": "b739749f-d397-48fa-8e21-fd3ab240e9ec",
   "metadata": {},
   "outputs": [],
   "source": [
    "# create Pandas DataFrame\n",
    "rentalDF = pd.read_csv('data/rental_1000.csv')"
   ]
  },
  {
   "cell_type": "code",
   "execution_count": 12,
   "id": "769e4fff-f637-450e-ba2d-66e6f617ca0c",
   "metadata": {},
   "outputs": [],
   "source": [
    "# Consider Features and Labels\n",
    "X = rentalDF[['rooms','sqft']].values   # Features\n",
    "y = rentalDF['price'].values           # Labels"
   ]
  },
  {
   "cell_type": "code",
   "execution_count": 13,
   "id": "d2f616b9-1f5c-44e5-b6d0-21acf2133231",
   "metadata": {},
   "outputs": [],
   "source": [
    "X_train,X_test,y_train,y_test = train_test_split(X,y,test_size=0.20)"
   ]
  },
  {
   "cell_type": "code",
   "execution_count": 18,
   "id": "ba24030a-6a08-4bbc-9170-aababdf668db",
   "metadata": {},
   "outputs": [],
   "source": [
    "# Training the Dataset\n",
    "lr = LinearRegression()\n",
    "model = lr.fit(X_train, y_train)"
   ]
  },
  {
   "cell_type": "code",
   "execution_count": 19,
   "id": "9d2e5c30-c99e-485a-a3cb-50981894acf8",
   "metadata": {},
   "outputs": [
    {
     "data": {
      "text/plain": [
       "['model/rentalprediciton.joblib']"
      ]
     },
     "execution_count": 19,
     "metadata": {},
     "output_type": "execute_result"
    }
   ],
   "source": [
    "joblib.dump(model,'model/rentalprediciton.joblib')"
   ]
  },
  {
   "cell_type": "code",
   "execution_count": 20,
   "id": "82876285-1ede-413b-96a3-6cd665950a97",
   "metadata": {},
   "outputs": [],
   "source": [
    "model = joblib.load('model/rentalprediciton.joblib')"
   ]
  },
  {
   "cell_type": "code",
   "execution_count": 27,
   "id": "69fa644b-2676-4b8f-859c-d50b93be2ec5",
   "metadata": {},
   "outputs": [
    {
     "data": {
      "text/plain": [
       "(array([   4, 1536]), np.int64(76021))"
      ]
     },
     "execution_count": 27,
     "metadata": {},
     "output_type": "execute_result"
    }
   ],
   "source": [
    "X_test[0],y_test[0]"
   ]
  },
  {
   "cell_type": "code",
   "execution_count": 29,
   "id": "71af8c9c-ef6e-44c6-90a5-fd51e11c9b27",
   "metadata": {},
   "outputs": [
    {
     "data": {
      "text/plain": [
       "array([78824.19850088])"
      ]
     },
     "execution_count": 29,
     "metadata": {},
     "output_type": "execute_result"
    }
   ],
   "source": [
    "model.predict(X_test[[0]])"
   ]
  },
  {
   "cell_type": "code",
   "execution_count": 32,
   "id": "b36c49cf-bdaa-4f65-9afe-244753ea7d80",
   "metadata": {},
   "outputs": [
    {
     "name": "stdout",
     "output_type": "stream",
     "text": [
      "The Actual Rental Price for Rooms= 4  and Area in Sqft=  1536  is 76021\n"
     ]
    }
   ],
   "source": [
    "print(f\"The Actual Rental Price for Rooms= {X_test[0][0]}  and Area in Sqft=  {X_test[0][1]}  is {y_test[0]}\")"
   ]
  },
  {
   "cell_type": "code",
   "execution_count": 35,
   "id": "24ac7547-234d-47b3-930a-41bf6dba7ab7",
   "metadata": {},
   "outputs": [
    {
     "name": "stdout",
     "output_type": "stream",
     "text": [
      "The Predicted Rental Price for Rooms= 4  and Area in Sqft=  1536  is [78824.19850088]\n"
     ]
    }
   ],
   "source": [
    "print(f\"The Predicted Rental Price for Rooms= {X_test[0][0]}  and Area in Sqft=  {X_test[0][1]}  is {model.predict(X_test[[0]])}\")"
   ]
  },
  {
   "cell_type": "code",
   "execution_count": 21,
   "id": "f060d71f-6732-4713-b3a7-11bcd9c55da4",
   "metadata": {},
   "outputs": [],
   "source": [
    "# For Testing"
   ]
  },
  {
   "cell_type": "code",
   "execution_count": 22,
   "id": "2b354a50-6dd5-4101-a8d6-a54023498016",
   "metadata": {},
   "outputs": [],
   "source": [
    "# Cofficent and Intercept\n",
    "cofficent = model.coef_\n",
    "intercept = model.intercept_"
   ]
  },
  {
   "cell_type": "code",
   "execution_count": 24,
   "id": "a46d5d94-31c4-40b2-bc2e-a2dfc344c244",
   "metadata": {},
   "outputs": [
    {
     "data": {
      "text/plain": [
       "array([54114.923514])"
      ]
     },
     "execution_count": 24,
     "metadata": {},
     "output_type": "execute_result"
    }
   ],
   "source": [
    "model.predict(np.array([[2, 1059]]))"
   ]
  },
  {
   "cell_type": "code",
   "execution_count": 25,
   "id": "06454b28-735e-4e95-8396-15b702e5f83e",
   "metadata": {},
   "outputs": [
    {
     "data": {
      "text/plain": [
       "array([76036.81983785])"
      ]
     },
     "execution_count": 25,
     "metadata": {},
     "output_type": "execute_result"
    }
   ],
   "source": [
    "model.predict(np.array([[2, 1500]]))"
   ]
  },
  {
   "cell_type": "code",
   "execution_count": null,
   "id": "bc540055-8744-46de-bb98-c1ba0125d5e0",
   "metadata": {},
   "outputs": [],
   "source": []
  }
 ],
 "metadata": {
  "kernelspec": {
   "display_name": "Python 3 (ipykernel)",
   "language": "python",
   "name": "python3"
  },
  "language_info": {
   "codemirror_mode": {
    "name": "ipython",
    "version": 3
   },
   "file_extension": ".py",
   "mimetype": "text/x-python",
   "name": "python",
   "nbconvert_exporter": "python",
   "pygments_lexer": "ipython3",
   "version": "3.12.5"
  }
 },
 "nbformat": 4,
 "nbformat_minor": 5
}
