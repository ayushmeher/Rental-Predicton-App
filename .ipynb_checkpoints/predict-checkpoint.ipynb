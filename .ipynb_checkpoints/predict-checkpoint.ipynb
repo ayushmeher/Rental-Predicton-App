{
 "cells": [
  {
   "cell_type": "code",
   "execution_count": 5,
   "id": "44efd659-cad9-4943-9b28-df7f5882bde3",
   "metadata": {},
   "outputs": [],
   "source": [
    "import joblib\n",
    "import numpy as np"
   ]
  },
  {
   "cell_type": "code",
   "execution_count": 6,
   "id": "5aad516f-0d3f-4c3d-b608-1e6d053f5fa6",
   "metadata": {},
   "outputs": [],
   "source": [
    "mymodel = joblib.load('model/rentalprediciton.joblib')"
   ]
  },
  {
   "cell_type": "code",
   "execution_count": 7,
   "id": "c683e10a-c1b3-4127-9ef7-aa4fd4ee853a",
   "metadata": {},
   "outputs": [
    {
     "data": {
      "text/plain": [
       "array([76097.47475906])"
      ]
     },
     "execution_count": 7,
     "metadata": {},
     "output_type": "execute_result"
    }
   ],
   "source": [
    "mymodel.predict(np.array([[2, 1500]]))"
   ]
  }
 ],
 "metadata": {
  "kernelspec": {
   "display_name": "Python 3 (ipykernel)",
   "language": "python",
   "name": "python3"
  },
  "language_info": {
   "codemirror_mode": {
    "name": "ipython",
    "version": 3
   },
   "file_extension": ".py",
   "mimetype": "text/x-python",
   "name": "python",
   "nbconvert_exporter": "python",
   "pygments_lexer": "ipython3",
   "version": "3.12.5"
  }
 },
 "nbformat": 4,
 "nbformat_minor": 5
}
